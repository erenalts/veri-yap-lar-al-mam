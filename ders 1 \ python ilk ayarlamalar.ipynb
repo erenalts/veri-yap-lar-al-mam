{
  "nbformat": 4,
  "nbformat_minor": 0,
  "metadata": {
    "colab": {
      "provenance": [],
      "toc_visible": true
    },
    "kernelspec": {
      "name": "python3",
      "display_name": "Python 3"
    },
    "language_info": {
      "name": "python"
    }
  },
  "cells": [
    {
      "cell_type": "markdown",
      "source": [
        "python programalama dilinde print komutu ekrana kullanıcıya bilgi veren bir komuttur\n",
        "veri yapıları ve algoritma dersi ilk kodlama çıktısı 19.08.2024"
      ],
      "metadata": {
        "id": "2tcIw5mV62yn"
      }
    },
    {
      "cell_type": "code",
      "execution_count": 6,
      "metadata": {
        "id": "mZT5HfBp21Ar",
        "colab": {
          "base_uri": "https://localhost:8080/"
        },
        "outputId": "837d7a2b-391d-4827-d8b1-69e54e22f04d"
      },
      "outputs": [
        {
          "output_type": "stream",
          "name": "stdout",
          "text": [
            "merhaba iska\n"
          ]
        }
      ],
      "source": [
        "print(\"merhaba iska\")"
      ]
    },
    {
      "cell_type": "code",
      "source": [
        "import sys\n",
        "print(sys.version)"
      ],
      "metadata": {
        "colab": {
          "base_uri": "https://localhost:8080/"
        },
        "id": "RBldWcUv5_TP",
        "outputId": "e109c86f-94d7-4607-f7bf-b44536e3a8e9"
      },
      "execution_count": 8,
      "outputs": [
        {
          "output_type": "stream",
          "name": "stdout",
          "text": [
            "3.10.12 (main, Jul 29 2024, 16:56:48) [GCC 11.4.0]\n"
          ]
        }
      ]
    },
    {
      "cell_type": "code",
      "source": [
        "from google.colab import drive # google colab - drive bağlantısı\n",
        "drive.mount('/content/drive')"
      ],
      "metadata": {
        "colab": {
          "base_uri": "https://localhost:8080/"
        },
        "id": "6ApMx2446eIY",
        "outputId": "f00be5a2-1c23-47bd-c9f7-ffa5115156e0"
      },
      "execution_count": 9,
      "outputs": [
        {
          "output_type": "stream",
          "name": "stdout",
          "text": [
            "Mounted at /content/drive\n"
          ]
        }
      ]
    },
    {
      "cell_type": "code",
      "source": [
        "import os\n",
        "\n",
        "os.chdir('/content/drive/My Drive/veriyapilari_iska')\n",
        "\n",
        "!pwd # bize kodun çıktısını dosya yolu olarak vern kod blogudur"
      ],
      "metadata": {
        "colab": {
          "base_uri": "https://localhost:8080/"
        },
        "id": "v-2WPr9W9WFo",
        "outputId": "ffd375a7-746a-4527-b4d0-11d13cdcf26c"
      },
      "execution_count": 13,
      "outputs": [
        {
          "output_type": "stream",
          "name": "stdout",
          "text": [
            "/content/drive/My Drive/veriyapilari_iska\n"
          ]
        }
      ]
    }
  ]
}
