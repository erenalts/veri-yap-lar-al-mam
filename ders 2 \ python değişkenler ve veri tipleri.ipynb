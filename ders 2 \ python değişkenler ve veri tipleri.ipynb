{
  "nbformat": 4,
  "nbformat_minor": 0,
  "metadata": {
    "colab": {
      "provenance": []
    },
    "kernelspec": {
      "name": "python3",
      "display_name": "Python 3"
    },
    "language_info": {
      "name": "python"
    }
  },
  "cells": [
    {
      "cell_type": "code",
      "execution_count": 3,
      "metadata": {
        "colab": {
          "base_uri": "https://localhost:8080/"
        },
        "id": "niK1yd6Xq5cg",
        "outputId": "67271ebb-c2ce-4329-dd1b-0ec58055add5"
      },
      "outputs": [
        {
          "output_type": "stream",
          "name": "stdout",
          "text": [
            "merhaba iska\n"
          ]
        }
      ],
      "source": [
        "print(\"merhaba iska\")"
      ]
    },
    {
      "cell_type": "code",
      "source": [
        "import sys\n",
        "print(sys.version)"
      ],
      "metadata": {
        "colab": {
          "base_uri": "https://localhost:8080/"
        },
        "id": "yUiebitNrPgF",
        "outputId": "b9a61aac-1931-4d7e-efd8-76d2232da88b"
      },
      "execution_count": 4,
      "outputs": [
        {
          "output_type": "stream",
          "name": "stdout",
          "text": [
            "3.10.12 (main, Jul 29 2024, 16:56:48) [GCC 11.4.0]\n"
          ]
        }
      ]
    },
    {
      "cell_type": "code",
      "source": [
        "from google.colab import drive # google colab - drive bağlantısı\n",
        "drive.mount('/content/drive')"
      ],
      "metadata": {
        "colab": {
          "base_uri": "https://localhost:8080/"
        },
        "id": "B68n82Q3rS7k",
        "outputId": "a2b978bb-de77-45b5-e63a-704909864ffb"
      },
      "execution_count": 5,
      "outputs": [
        {
          "output_type": "stream",
          "name": "stdout",
          "text": [
            "Mounted at /content/drive\n"
          ]
        }
      ]
    },
    {
      "cell_type": "code",
      "source": [
        "import os\n",
        "\n",
        "os.chdir('/content/drive/My Drive/veriyapilari_iska')\n",
        "\n",
        "!pwd # bize kodun çıktısını dosya yolu olarak vern kod blogudur"
      ],
      "metadata": {
        "colab": {
          "base_uri": "https://localhost:8080/"
        },
        "id": "NkMm5WnFrVes",
        "outputId": "1977a8a9-29e1-4f8d-b5f8-fba832292eef"
      },
      "execution_count": 6,
      "outputs": [
        {
          "output_type": "stream",
          "name": "stdout",
          "text": [
            "/content/drive/My Drive/veriyapilari_iska\n"
          ]
        }
      ]
    },
    {
      "cell_type": "code",
      "source": [
        "#geçerli değişkenler\n",
        "degisken_1 = 10\n",
        "degisken_2 = 20\n",
        "_degisken3 = 30"
      ],
      "metadata": {
        "id": "nprBusAKrXLU"
      },
      "execution_count": 7,
      "outputs": []
    },
    {
      "cell_type": "code",
      "source": [
        "#geçersiz değişkenler\n",
        "1degisken = 40\n",
        "degisken-4 = 50"
      ],
      "metadata": {
        "id": "_nmzU_GFwYYv"
      },
      "execution_count": null,
      "outputs": []
    },
    {
      "cell_type": "code",
      "source": [
        "# değişken tanımlama işlemi\n",
        "\n",
        "x = 5\n",
        "y = \"merhaba dünya \"\n",
        "\n",
        "print(x)\n",
        "print(y)"
      ],
      "metadata": {
        "colab": {
          "base_uri": "https://localhost:8080/"
        },
        "id": "P6K5lXSwwZE3",
        "outputId": "4b93f7ef-e95c-442b-d523-491f5deb1e70"
      },
      "execution_count": 10,
      "outputs": [
        {
          "output_type": "stream",
          "name": "stdout",
          "text": [
            "5\n",
            "merhaba dünya \n"
          ]
        }
      ]
    },
    {
      "cell_type": "code",
      "source": [
        "#int ten flotata çevrimin gerçekleştirilmesi\n",
        "x=10\n",
        "y=float(x)\n",
        "print(y ,type(y))"
      ],
      "metadata": {
        "colab": {
          "base_uri": "https://localhost:8080/"
        },
        "collapsed": true,
        "id": "0qjZ9v0V61yb",
        "outputId": "78477dab-59bb-42a0-fdcc-ddb2bf5deee6"
      },
      "execution_count": 25,
      "outputs": [
        {
          "output_type": "stream",
          "name": "stdout",
          "text": [
            "10.0 <class 'float'>\n"
          ]
        }
      ]
    },
    {
      "cell_type": "code",
      "source": [
        "#floattan int e çevrimin gerçekleştirilmesi\n",
        "a = 12.34\n",
        "b = int(a)\n",
        "print(b, type(b))"
      ],
      "metadata": {
        "colab": {
          "base_uri": "https://localhost:8080/"
        },
        "id": "8-UvbU197J2Q",
        "outputId": "f3c86bf3-6074-4aae-c940-8405f35d5fd8"
      },
      "execution_count": 13,
      "outputs": [
        {
          "output_type": "stream",
          "name": "stdout",
          "text": [
            "12 <class 'int'>\n"
          ]
        }
      ]
    },
    {
      "cell_type": "code",
      "source": [
        "# string metinsel içerik tanımlanması\n",
        "\n",
        "c = \"python programalama\"\n",
        "print(c)\n",
        "print(type(c))"
      ],
      "metadata": {
        "colab": {
          "base_uri": "https://localhost:8080/"
        },
        "id": "75CUoAuu7n4b",
        "outputId": "4dea66a2-0c62-40a1-bee3-0255825bb790"
      },
      "execution_count": 14,
      "outputs": [
        {
          "output_type": "stream",
          "name": "stdout",
          "text": [
            "python programalama\n",
            "<class 'str'>\n"
          ]
        }
      ]
    },
    {
      "cell_type": "code",
      "source": [
        "# boolean ( true - false ) - doğru / yanlış tanımlaması\n",
        "d=True\n",
        "e=False\n",
        "print(d)\n",
        "print(type(e))"
      ],
      "metadata": {
        "colab": {
          "base_uri": "https://localhost:8080/"
        },
        "id": "7ZF5B3zq8B3G",
        "outputId": "be931943-04e8-4442-e26e-e9bcff978f2b"
      },
      "execution_count": 29,
      "outputs": [
        {
          "output_type": "stream",
          "name": "stdout",
          "text": [
            "True\n",
            "<class 'bool'>\n"
          ]
        }
      ]
    },
    {
      "cell_type": "code",
      "source": [
        "# liste - liste tanımlanması\n",
        "liste = [1,2,3,4,5]\n",
        "print(type(liste))\n",
        "print(liste)"
      ],
      "metadata": {
        "colab": {
          "base_uri": "https://localhost:8080/"
        },
        "id": "X41YiuRr9fUL",
        "outputId": "d35ffd83-1447-4165-d3da-0421479c7186"
      },
      "execution_count": 30,
      "outputs": [
        {
          "output_type": "stream",
          "name": "stdout",
          "text": [
            "<class 'list'>\n",
            "[1, 2, 3, 4, 5]\n"
          ]
        }
      ]
    },
    {
      "cell_type": "code",
      "source": [
        "# tuple - demet tanımlaması\n",
        "demet = (1,2,3,4,5)\n",
        "print(type(demet))\n",
        "print(demet)"
      ],
      "metadata": {
        "colab": {
          "base_uri": "https://localhost:8080/"
        },
        "id": "SjbnzUyd-hMJ",
        "outputId": "17256e19-9931-4da3-ab50-3226fa8961b9"
      },
      "execution_count": 32,
      "outputs": [
        {
          "output_type": "stream",
          "name": "stdout",
          "text": [
            "<class 'tuple'>\n",
            "(1, 2, 3, 4, 5)\n"
          ]
        }
      ]
    },
    {
      "cell_type": "code",
      "source": [
        "#dictionary - sözlük örneği -> öğrencilerin notlarını tutam bir sözlük\n",
        "\n",
        "notlar = {\n",
        "\n",
        "          \"ali\": 85,\n",
        "          \"veli\":90,\n",
        "          \"ayşe\":78,\n",
        "}\n",
        "notlar[\"fatma\"] = 92\n",
        "notlar[\"ali\"]   = 88\n",
        "print (notlar)"
      ],
      "metadata": {
        "colab": {
          "base_uri": "https://localhost:8080/"
        },
        "id": "X8t3vpnH_Lyo",
        "outputId": "3a947fb9-22f7-4df6-aceb-4d347dfaf788"
      },
      "execution_count": 34,
      "outputs": [
        {
          "output_type": "stream",
          "name": "stdout",
          "text": [
            "{'ali': 88, 'veli': 90, 'ayşe': 78, 'fatma': 92}\n"
          ]
        }
      ]
    },
    {
      "cell_type": "code",
      "source": [
        "print(notlar.keys())   # dict_keys(['isim','yas','meslek'])\n",
        "print(notlar.volues()) # volues(['isim','yas','meslek'])\n",
        "print(notlar.items())  # dict_items(['isim','yas','meslek'])"
      ],
      "metadata": {
        "id": "lbzR1Bul_L1Y"
      },
      "execution_count": null,
      "outputs": []
    },
    {
      "cell_type": "code",
      "source": [
        "# set - küme örneği -> bu bri yazılım etkinliğine katılan kişilerin oluşturduğu kümeler\n",
        "\n",
        "kodyazanlar = {\"ahmet\", \"mehmet\",\"ayşe\"}\n",
        "kodyazmayanlar = {\"ayşe\",\"fatma\",\"veli\"}\n",
        "\n",
        "#kafasına göre takılan öğrenciler\n",
        "ortak= kodyazanlar.intersection(kodyazmayanlar)\n",
        "print(\"kafasına göre takılanlar listesi\",ortak)\n",
        "\n",
        "# etkinlikte kod çalışması yapmayan öğrenciler\n",
        "kod_yazmayan = kodyazmayanlar.difference(kodyazanlar)\n",
        "print (\"kod çalışması yapmayan öğrenci listesi \",kod_yazmayan)\n",
        "\n",
        "\n",
        "# yazılım eğitimin öğrenci imza listesi\n",
        "imza_listesi = kodyazanlar.union(kodyazmayanlar)\n",
        "print(\"etkinlik kullanıcıları:\",imza_listesi)"
      ],
      "metadata": {
        "colab": {
          "base_uri": "https://localhost:8080/"
        },
        "id": "WRiJmh2zB8kN",
        "outputId": "d1d3e4bb-9a44-4a9f-e4c7-84c15169e179"
      },
      "execution_count": 36,
      "outputs": [
        {
          "output_type": "stream",
          "name": "stdout",
          "text": [
            "kafasına göre takılanlar listesi {'ayşe'}\n",
            "kod çalışması yapmayan öğrenci listesi  {'veli', 'fatma'}\n",
            "etkinlik kullanıcıları: {'ayşe', 'veli', 'fatma', 'ahmet', 'mehmet'}\n"
          ]
        }
      ]
    },
    {
      "cell_type": "code",
      "source": [
        "giris =input(\"bir sayı giriniz:\")\n",
        "try:\n",
        "  num=float(giris)\n",
        "  print(f\"girilen sayı:{num}, tipi: {type(num)},\" , abs(num))\n",
        "except ValueError:\n",
        "  print(\"geçersiz veri girdiniz.\")"
      ],
      "metadata": {
        "colab": {
          "base_uri": "https://localhost:8080/"
        },
        "id": "c0TW2oIi_L3u",
        "outputId": "b2390538-2725-41a2-db72-aa3dc2d2a813"
      },
      "execution_count": 47,
      "outputs": [
        {
          "output_type": "stream",
          "name": "stdout",
          "text": [
            "bir sayı giriniz:7.25\n",
            "girilen sayı:7.25, tipi: <class 'float'>, 7.25\n"
          ]
        }
      ]
    }
  ]
}
