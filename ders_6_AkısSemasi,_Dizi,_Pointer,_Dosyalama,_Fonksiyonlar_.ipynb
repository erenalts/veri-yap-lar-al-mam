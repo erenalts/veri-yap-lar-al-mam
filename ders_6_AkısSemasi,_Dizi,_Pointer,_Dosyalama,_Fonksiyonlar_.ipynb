{
  "nbformat": 4,
  "nbformat_minor": 0,
  "metadata": {
    "colab": {
      "provenance": []
    },
    "kernelspec": {
      "name": "python3",
      "display_name": "Python 3"
    },
    "language_info": {
      "name": "python"
    }
  },
  "cells": [
    {
      "cell_type": "code",
      "execution_count": 1,
      "metadata": {
        "colab": {
          "base_uri": "https://localhost:8080/"
        },
        "id": "h0aEOSYgnSlX",
        "outputId": "c39ee202-be4a-46d5-f9f7-effa00c5342a"
      },
      "outputs": [
        {
          "output_type": "stream",
          "name": "stdout",
          "text": [
            "Merhaba, İGÜ - İSTKA / Ders 6\n"
          ]
        }
      ],
      "source": [
        "print(\"Merhaba, İGÜ - İSTKA / Ders 6\") # print ekrana çıktı veren bir koddur.\n",
        ""
      ]
    },
    {
      "cell_type": "code",
      "source": [
        "import sys # import python programlama dilinde yazılıma kütüphane eklemeye yarayan bir kod blogudur.\n",
        "print(sys.version)"
      ],
      "metadata": {
        "colab": {
          "base_uri": "https://localhost:8080/"
        },
        "id": "BKCRUeU7oCAw",
        "outputId": "b1b3a16e-8514-424c-b3a9-941db62fc137"
      },
      "execution_count": 2,
      "outputs": [
        {
          "output_type": "stream",
          "name": "stdout",
          "text": [
            "3.10.12 (main, Jul 29 2024, 16:56:48) [GCC 11.4.0]\n"
          ]
        }
      ]
    },
    {
      "cell_type": "code",
      "source": [
        "from google.colab import drive # google colab - drive bağlantısı\n",
        "\n",
        "drive.mount('/content/drive')\n",
        ""
      ],
      "metadata": {
        "colab": {
          "base_uri": "https://localhost:8080/"
        },
        "id": "kP0yyZ28oB9o",
        "outputId": "7c73ae48-f268-434a-e40d-729a2a331de9"
      },
      "execution_count": 3,
      "outputs": [
        {
          "output_type": "stream",
          "name": "stdout",
          "text": [
            "Mounted at /content/drive\n"
          ]
        }
      ]
    },
    {
      "cell_type": "code",
      "source": [
        "import os\n",
        "\n",
        "os.chdir('/content/drive/My Drive/veriyapilari_iska')\n",
        "\n",
        "!pwd # bize kodun çıktısını dosya yolu olarak veren kod blogudur."
      ],
      "metadata": {
        "colab": {
          "base_uri": "https://localhost:8080/"
        },
        "id": "s3oI6syYoFlw",
        "outputId": "12ac9584-d6a6-4d8a-cc85-3a94a1478d48"
      },
      "execution_count": 5,
      "outputs": [
        {
          "output_type": "stream",
          "name": "stdout",
          "text": [
            "/content/drive/My Drive/veriyapilari_iska\n"
          ]
        }
      ]
    },
    {
      "cell_type": "markdown",
      "source": [
        "Akış Şeması Elemanları ve Süreçlerine --> https://github.com/acetinkaya/veriyapilari-algoritma\n",
        "\n",
        "PYTHON - POINTER, DİZİ / LİSTE, FONKSİYONLAR\n",
        "\n"
      ],
      "metadata": {
        "id": "0pChHRPXoHJn"
      }
    },
    {
      "cell_type": "markdown",
      "source": [
        "Pointer C dili öğrenminde çok önemli bir kavramdır. Pointerler C dilinin güçlü öğeleridir. Bir pointer ana bellekte bir adres belirtir. Bazı dillerde ancak assembler dili yardımıyla çözülebilecek pekçok sorun C dilinde pointerler ile kolayca çözülebilir. Ayrıca adres kullanımı çok karmasik veri yapılarınin rahatlikla kullanilmasını sağlar.\n",
        "\n",
        "Pointer kavramına yöneltilen eleştirilerden en önemlisi, C diline yeni başlayanlar için çok karmaşık görünmesi ve yazılan programın zor anlaşılır olmasıdır.\n",
        "\n"
      ],
      "metadata": {
        "id": "nM95wN7zoLNo"
      }
    },
    {
      "cell_type": "code",
      "source": [
        "# Liste tanımlama\n",
        "dizi = [2, 3, 5, 6, 8, 11, 14]\n",
        "\n",
        "# Çift sayıları tutmak için boş liste\n",
        "numaralistesi = []\n",
        "\n",
        "# For ve if ile çift sayıları bulma\n",
        "for i in dizi:\n",
        "    if i % 2 == 0:\n",
        "        numaralistesi.append(i)\n",
        "\n",
        "print(f\"Listede bulunan çift sayılar: {numaralistesi}\")\n",
        "print(\"Adet çift sayı\", len(numaralistesi), \"bulunmaktadır !!!\")"
      ],
      "metadata": {
        "colab": {
          "base_uri": "https://localhost:8080/"
        },
        "id": "FRQF1uU3oFaY",
        "outputId": "fe5efc5c-305b-4aed-823b-2a7d6c41f142"
      },
      "execution_count": 6,
      "outputs": [
        {
          "output_type": "stream",
          "name": "stdout",
          "text": [
            "Listede bulunan çift sayılar: [2, 6, 8, 14]\n",
            "Adet çift sayı 4 bulunmaktadır !!!\n"
          ]
        }
      ]
    },
    {
      "cell_type": "code",
      "source": [
        "dizi = [\"elma\", \"muz\", \"çilek\", \"su\", \"cikolata\"] # Malzeme Listesi\n",
        "\n",
        "aranacak_urun = \"muz\" # Aranacak eleman\n",
        "\n",
        "if aranacak_urun in dizi:\n",
        "    print(aranacak_urun, \"liste içerisinde mevcut.\")\n",
        "else:\n",
        "    print(aranacak_urun, \"liste içerisinde mevcut değil.\")"
      ],
      "metadata": {
        "colab": {
          "base_uri": "https://localhost:8080/"
        },
        "id": "0fKpVm72oB6o",
        "outputId": "84aa6cc4-4170-46c3-84f5-a5d620211ea7"
      },
      "execution_count": 7,
      "outputs": [
        {
          "output_type": "stream",
          "name": "stdout",
          "text": [
            "muz liste içerisinde mevcut.\n"
          ]
        }
      ]
    },
    {
      "cell_type": "code",
      "source": [
        "dizi = [\"elma\", \"muz\", \"çilek\", \"su\", \"cikolata\"] # Malzeme Listesi\n",
        "\n",
        "aranacak_urun = input(\"Aranacak Ürün Nedir? \") # Aranacak eleman\n",
        "\n",
        "if aranacak_urun in dizi:\n",
        "    print(aranacak_urun, \"liste içerisinde mevcut.\")\n",
        "else:\n",
        "    print(aranacak_urun, \"liste içerisinde mevcut değil.\")"
      ],
      "metadata": {
        "colab": {
          "base_uri": "https://localhost:8080/"
        },
        "id": "-PaO7TXxoB3g",
        "outputId": "d69ec4b2-3d56-48a4-c4b7-19501a4b05ca"
      },
      "execution_count": 8,
      "outputs": [
        {
          "output_type": "stream",
          "name": "stdout",
          "text": [
            "Aranacak Ürün Nedir? elma\n",
            "elma liste içerisinde mevcut.\n"
          ]
        }
      ]
    },
    {
      "cell_type": "markdown",
      "source": [
        "Python Veri Yapılarında Fonksiyonlar ve Kullanım Kuralları\n",
        "\n",
        "Fonksiyonlar, belirli bir kod üzerinde ilgili görevi gerçekleştiren kod bloklarıdır.\n",
        "\n",
        "Bir fonksiyon tanımlandığında, ona bir özel isim verilir ve gerektiğinde bu isimle çağrılarak çalıştırılır.\n",
        "\n",
        "Fonksiyonlar kodun bütünlüğünde aynı kodu tekrar tekrar yazmak yerine; kodu daha modüler, yeniden kullanılabilir ve anlaşılır hale getirir.\n",
        "\n",
        "Fonksiyonların Kullanım Nedenleri-->\n",
        "\n",
        "Kodun Tekrarını Azaltır\n",
        "Modülerlik Sağlar\n",
        "Anlaşılabilirlik ve Bakım Kolaylığı\n",
        "Yeniden Kullanılabilirlik"
      ],
      "metadata": {
        "id": "_GF4Z8nhojey"
      }
    },
    {
      "cell_type": "code",
      "source": [
        "# Liste Elemanlarını Toplama\n",
        "sayilar = [1, 2, 3, 4, 5]\n",
        "\n",
        "def liste_toplam(liste):\n",
        "    toplam = 0\n",
        "    for eleman in liste:\n",
        "        toplam += eleman\n",
        "    return toplam\n",
        "\n",
        "# Fonksiyonu çağırarak kullanma\n",
        "sonuc = liste_toplam(sayilar)\n",
        "print(\"Toplama sonucu: \",sonuc)\n",
        "\n",
        "\n"
      ],
      "metadata": {
        "colab": {
          "base_uri": "https://localhost:8080/"
        },
        "id": "fyPMtKlZoBgg",
        "outputId": "c1b3ab54-20a1-4b0e-8195-326c483e9a48"
      },
      "execution_count": 18,
      "outputs": [
        {
          "output_type": "stream",
          "name": "stdout",
          "text": [
            "Toplama sonucu:  15\n"
          ]
        }
      ]
    },
    {
      "cell_type": "code",
      "source": [
        "# Fibonacci Dizisi Hesaplama\n",
        "\n",
        "def fibonacci(n):\n",
        "    if n <= 0:\n",
        "        return \"Geçersiz giriş\"\n",
        "    elif n == 1:\n",
        "        return 0\n",
        "    elif n == 2:\n",
        "        return 1\n",
        "    else:\n",
        "        return fibonacci(n-1) + fibonacci(n-2)\n",
        "\n",
        "# Fonksiyonu çağırarak kullanma\n",
        "n = 7\n",
        "sonuc = fibonacci(n)\n",
        "print(f\"Fibonacci dizisinin {n}. elemanı: {sonuc}\")"
      ],
      "metadata": {
        "colab": {
          "base_uri": "https://localhost:8080/"
        },
        "id": "3FXFrh931vaR",
        "outputId": "3fcf0f5d-ac4c-41a2-e5d7-7386b4bdf72b"
      },
      "execution_count": 19,
      "outputs": [
        {
          "output_type": "stream",
          "name": "stdout",
          "text": [
            "Fibonacci dizisinin 7. elemanı: 8\n"
          ]
        }
      ]
    },
    {
      "cell_type": "markdown",
      "source": [
        "EBOB - En Büyük Ortak Bölen : İki veya daha fazla sayının bölenleri arasında en büyük olanıdır.\n",
        "\n",
        "EKOK - En Küçük Ortak Kat : İki veya daha fazla sayının katları arasında en küçük olanıdır."
      ],
      "metadata": {
        "id": "PoQkb2lw42AZ"
      }
    },
    {
      "cell_type": "markdown",
      "source": [
        "Örneğin, 18 ve 24 sayılarının EBOB ve EKOK -->\n",
        "\n",
        "18'in bölenleri: 1, 2, 3, 6, 9, 18\n",
        "\n",
        "24'ün bölenleri: 1, 2, 3, 4, 6, 8, 12, 24\n",
        "\n",
        "Ortak bölenler: 1, 2, 3, 6\n",
        "\n",
        "EBOB (En büyük ortak bölen) --> 6"
      ],
      "metadata": {
        "id": "Ia_vivjY448q"
      }
    },
    {
      "cell_type": "markdown",
      "source": [
        "EKOK (En Küçük Ortak Kat):\n",
        "\n",
        "18'in katları: 18, 36, 54, 72, 90, ....\n",
        "\n",
        "24'ün katları: 24, 48, 72, 96, ....\n",
        "\n",
        "Ortak katlar: 72, 144, ...\n",
        "\n",
        "En küçük ortak kat: 72 (EKOK)\n",
        "\n",
        "18 ve 24 sayılarının EBOB'u 6, EKOK'u ise 72'dir."
      ],
      "metadata": {
        "id": "19CUwFWE6lPp"
      }
    },
    {
      "cell_type": "code",
      "source": [
        "# EBOB be EKOK Bulma\n",
        "\n",
        "def ebob(a, b):\n",
        "    while b:\n",
        "        a, b = b, a % b\n",
        "    return a\n",
        "\n",
        "def ekok(a, b):\n",
        "    return a * b // ebob(a, b)\n",
        "\n",
        "# Kullanıcıdan iki sayı al\n",
        "Bir_Sayi = int(input(\"Birinci sayıyı girin: \"))\n",
        "iki_Sayi = int(input(\"İkinci sayıyı girin: \"))\n",
        "\n",
        "# EBOB ve EKOK hesapla\n",
        "ebob_sonuc = ebob(Bir_Sayi, iki_Sayi)\n",
        "ekok_sonuc = ekok(Bir_Sayi, iki_Sayi)\n",
        "\n",
        "# Sonuçları göster\n",
        "print(\"Sayılarının EBOB'u: \", ebob_sonuc)\n",
        "print(\"Sayılarının EKOK'u: \", ekok_sonuc)"
      ],
      "metadata": {
        "colab": {
          "base_uri": "https://localhost:8080/"
        },
        "id": "G0HjCz2v6lH5",
        "outputId": "f820610c-7bea-4de4-bba9-c0da6e6fd662"
      },
      "execution_count": 20,
      "outputs": [
        {
          "output_type": "stream",
          "name": "stdout",
          "text": [
            "Birinci sayıyı girin: 24\n",
            "İkinci sayıyı girin: 52\n",
            "Sayılarının EBOB'u:  4\n",
            "Sayılarının EKOK'u:  312\n"
          ]
        }
      ]
    },
    {
      "cell_type": "code",
      "source": [
        "# Asal Sayı Kontrolü ve Asal Sayılar Listesi\n",
        "def asal_mi(sayi):\n",
        "    if sayi < 2:\n",
        "        return False\n",
        "    for i in range(2, int(sayi ** 0.5) + 1):\n",
        "        if sayi % i == 0:\n",
        "            return False\n",
        "    return True\n",
        "\n",
        "def asal_sayilar(aralik):\n",
        "    asal_listesi = []\n",
        "    for sayi in range(2, aralik + 1):\n",
        "        if asal_mi(sayi):\n",
        "            asal_listesi.append(sayi)\n",
        "    return asal_listesi\n",
        "\n",
        "# Fonksiyonları çağırarak kullanma\n",
        "aralik = 60\n",
        "sonuc = asal_sayilar(aralik)\n",
        "print(\"1 ile\", aralik, \" arasındaki asal sayılar: \", sonuc)\n",
        ""
      ],
      "metadata": {
        "colab": {
          "base_uri": "https://localhost:8080/"
        },
        "id": "Zw6FeCID47nh",
        "outputId": "e7d56d92-762d-4c42-ab4e-14a1af77ceb5"
      },
      "execution_count": 22,
      "outputs": [
        {
          "output_type": "stream",
          "name": "stdout",
          "text": [
            "1 ile 60  arasındaki asal sayılar:  [2, 3, 5, 7, 11, 13, 17, 19, 23, 29, 31, 37, 41, 43, 47, 53, 59]\n"
          ]
        }
      ]
    },
    {
      "cell_type": "code",
      "source": [
        "buzdolabi = { # Buzdolabındaki meyveler ve miktarlarını tutan sözlük\n",
        "    \"elma\": 5,    # 5 kilo elma\n",
        "    \"muz\": 3,     # 3 kilo muz\n",
        "    \"kiraz\": 2,   # 2 kilo kiraz\n",
        "    \"hurma\": 4    # 4 kilo hurma\n",
        "}\n",
        "\n",
        "def buzdolabi_durumu_yazdir(): # Mevcut buzdolabı durumunu yazdıran fonksiyon\n",
        "    print(\"Buzdolabındaki meyve miktarları:\")\n",
        "    for meyve, miktar in buzdolabi.items():\n",
        "        print(f\"{meyve}: {miktar} kilo\")\n",
        "    print(\"\\n\")\n",
        "\n",
        "\n",
        "def meyve_tuket(meyve, miktar): # Meyveden belirtilen miktarı düşen fonksiyon\n",
        "    if meyve in buzdolabi:\n",
        "        if buzdolabi[meyve] >= miktar:\n",
        "            buzdolabi[meyve] -= miktar\n",
        "            print(f\"{miktar} kilo {meyve} tüketildi.\")\n",
        "            if buzdolabi[meyve] == 0:\n",
        "                print(f\"{meyve} kalmadı. {meyve} almalısın!\")\n",
        "                yeni_miktar = float(input(f\"Kaç kilo {meyve} almak istersiniz?: \"))\n",
        "                buzdolabi[meyve] = yeni_miktar\n",
        "                print(f\"{meyve} buzdolabına {yeni_miktar} kilo olarak eklendi.\")\n",
        "        else:\n",
        "            print(f\"Buzdolabında yeterli {meyve} yok. Mevcut miktar: {buzdolabi[meyve]} kilo.\")\n",
        "    else:\n",
        "        print(f\"Buzdolabında {meyve} bulunmuyor.\")\n",
        "\n",
        "print(\"Buzdolabı Uygulaması\") # Uygulama başlangıc noktası\n",
        "buzdolabi_durumu_yazdir()\n",
        "\n",
        "while True: #Ana döngü tanımlaması\n",
        "    # Kullanıcıdan meyve ve miktar bilgisi alma\n",
        "    meyve = input(\"Hangi meyveyi tüketmek istersiniz? (Çıkmak için 'exit' yazın): \").lower()\n",
        "\n",
        "    if meyve == 'exit':\n",
        "        print(\"Uygulama sonlandırılıyor.\")\n",
        "        break\n",
        "\n",
        "    miktar = float(input(f\"Kaç kilo {meyve} tüketmek istersiniz?: \"))\n",
        "\n",
        "    meyve_tuket(meyve, miktar)     # Meyve tüketme işlemi\n",
        "\n",
        "    buzdolabi_durumu_yazdir()  # Güncellenmiş buzdolabı durumunu yazdırma"
      ],
      "metadata": {
        "colab": {
          "base_uri": "https://localhost:8080/"
        },
        "id": "9UBac4H49EpS",
        "outputId": "0a3ff2d2-68c8-4297-a0ff-e3e3c9982fb7"
      },
      "execution_count": 23,
      "outputs": [
        {
          "output_type": "stream",
          "name": "stdout",
          "text": [
            "Buzdolabı Uygulaması\n",
            "Buzdolabındaki meyve miktarları:\n",
            "elma: 5 kilo\n",
            "muz: 3 kilo\n",
            "kiraz: 2 kilo\n",
            "hurma: 4 kilo\n",
            "\n",
            "\n",
            "Hangi meyveyi tüketmek istersiniz? (Çıkmak için 'exit' yazın): elma\n",
            "Kaç kilo elma tüketmek istersiniz?: 2\n",
            "2.0 kilo elma tüketildi.\n",
            "Buzdolabındaki meyve miktarları:\n",
            "elma: 3.0 kilo\n",
            "muz: 3 kilo\n",
            "kiraz: 2 kilo\n",
            "hurma: 4 kilo\n",
            "\n",
            "\n",
            "Hangi meyveyi tüketmek istersiniz? (Çıkmak için 'exit' yazın): exit\n",
            "Uygulama sonlandırılıyor.\n"
          ]
        }
      ]
    },
    {
      "cell_type": "code",
      "source": [],
      "metadata": {
        "id": "TO6aB4se9K5L"
      },
      "execution_count": null,
      "outputs": []
    }
  ]
}